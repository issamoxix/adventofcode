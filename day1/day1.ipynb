{
 "cells": [
  {
   "cell_type": "code",
   "execution_count": 7,
   "metadata": {},
   "outputs": [],
   "source": [
    "file_text = open('day1.txt','r').read()"
   ]
  },
  {
   "cell_type": "code",
   "execution_count": 8,
   "metadata": {},
   "outputs": [],
   "source": [
    "ELFS = {}\n",
    "elf_ref = 1\n",
    "for key, item in enumerate(file_text.split(\"\\n\")):\n",
    "    if item:\n",
    "        if not ELFS.get(f\"Elf[{elf_ref}]\", None):\n",
    "            ELFS[f\"Elf[{elf_ref}]\"] = []\n",
    "        ELFS[f\"Elf[{elf_ref}]\"].append(int(item))\n",
    "    if not item:\n",
    "        elf_ref += elf_ref\n",
    "        ELFS[f\"Elf[{elf_ref}]\"] = []"
   ]
  },
  {
   "cell_type": "code",
   "execution_count": 9,
   "metadata": {},
   "outputs": [],
   "source": [
    "# ELFS\n",
    "calories_list = []"
   ]
  },
  {
   "cell_type": "code",
   "execution_count": 10,
   "metadata": {},
   "outputs": [],
   "source": [
    "for elf,items in ELFS.items():\n",
    "    calories_list.append(sum(items))"
   ]
  },
  {
   "cell_type": "code",
   "execution_count": 25,
   "metadata": {},
   "outputs": [
    {
     "data": {
      "text/plain": [
       "209603"
      ]
     },
     "execution_count": 25,
     "metadata": {},
     "output_type": "execute_result"
    }
   ],
   "source": [
    "calories_list.sort()\n",
    "sum(calories_list[-3:])"
   ]
  },
  {
   "cell_type": "code",
   "execution_count": 14,
   "metadata": {},
   "outputs": [
    {
     "data": {
      "text/plain": [
       "256"
      ]
     },
     "execution_count": 14,
     "metadata": {},
     "output_type": "execute_result"
    }
   ],
   "source": [
    "len(calories_list)"
   ]
  },
  {
   "cell_type": "code",
   "execution_count": 17,
   "metadata": {},
   "outputs": [
    {
     "name": "stdout",
     "output_type": "stream",
     "text": [
      "None\n"
     ]
    }
   ],
   "source": [
    "x = [5,2,3]\n",
    "print(x.sort())"
   ]
  }
 ],
 "metadata": {
  "kernelspec": {
   "display_name": "Python 3.9.13 64-bit",
   "language": "python",
   "name": "python3"
  },
  "language_info": {
   "codemirror_mode": {
    "name": "ipython",
    "version": 3
   },
   "file_extension": ".py",
   "mimetype": "text/x-python",
   "name": "python",
   "nbconvert_exporter": "python",
   "pygments_lexer": "ipython3",
   "version": "3.9.13"
  },
  "orig_nbformat": 4,
  "vscode": {
   "interpreter": {
    "hash": "2b6578007a09083de27995e72f12c07513e3e994bd9da2761194a78eedcc2cbd"
   }
  }
 },
 "nbformat": 4,
 "nbformat_minor": 2
}
