{
 "cells": [
  {
   "cell_type": "code",
   "execution_count": 10,
   "metadata": {},
   "outputs": [],
   "source": [
    "abc = \"abcdefghijklmnopqrstuvwxyz\"\n",
    "rps = [\"rock\",\"paper\",\"scissor\"]\n",
    "rps_dict = {}"
   ]
  },
  {
   "cell_type": "code",
   "execution_count": 19,
   "metadata": {},
   "outputs": [],
   "source": [
    "curr = 0\n",
    "for k,v in enumerate(abc):\n",
    "    rps_dict[v] = rps[curr]\n",
    "    curr += 1 \n",
    "    if curr==3:\n",
    "        curr = 0\n",
    "        "
   ]
  },
  {
   "cell_type": "code",
   "execution_count": 30,
   "metadata": {},
   "outputs": [],
   "source": [
    "rps_dict_hard_code = {\n",
    "    \"A\": \"rock\",\n",
    "    \"B\": \"paper\",\n",
    "    \"C\": \"scissor\",\n",
    "    \"X\": \"rock\",\n",
    "    \"Y\": \"paper\",\n",
    "    \"Z\": \"scissor\",\n",
    "}"
   ]
  },
  {
   "cell_type": "code",
   "execution_count": 52,
   "metadata": {},
   "outputs": [],
   "source": [
    "file_text = open('day2.txt','r').read()\n",
    "lines = file_text.split('\\n')"
   ]
  },
  {
   "cell_type": "code",
   "execution_count": 66,
   "metadata": {},
   "outputs": [],
   "source": [
    "hand = {\n",
    "    \"rock\": {1: \"scissor\", 0: \"paper\"},\n",
    "    \"paper\": {1: \"rock\", 0: \"scissor\"},\n",
    "    \"scissor\": {1: \"paper\", 0: \"rock\"},\n",
    "}"
   ]
  },
  {
   "cell_type": "code",
   "execution_count": 67,
   "metadata": {},
   "outputs": [],
   "source": [
    "# the score for the shape you selected (0 if you lost, 3 if the round was a draw, and 6 if you won)\n",
    "# the score for the outcome of the round (1 for Rock, 2 for Paper, and 3 for Scissors)\n",
    "\n",
    "# Part 2\n",
    "# X u need to lose\n",
    "# Y ......... draw\n",
    "# Z ......... win\n",
    "\n",
    "\n",
    "def get_score(p1, p2):\n",
    "    _rps = rps_dict_hard_code\n",
    "    outcome_score = {\"rock\": 1, \"paper\": 2, \"scissor\": 3}\n",
    "    scores = {\"lost\": 0, \"draw\": 3, \"win\": 6}\n",
    "    p1_card = rps_dict_hard_code[p1]\n",
    "    p2_card = rps_dict_hard_code[p2]\n",
    "\n",
    "    if p2 == \"X\":\n",
    "        scores = {\"lost\": 0, \"draw\": 0, \"win\": 0}\n",
    "        p2_card = hand[p1_card][1]\n",
    "    if p2 == \"Y\":\n",
    "        p2_card = p1_card\n",
    "        scores = {\"lost\": 3, \"draw\": 3, \"win\": 3}\n",
    "    if p2 == \"Z\":\n",
    "        scores = {\"lost\": 6, \"draw\": 6, \"win\": 6}\n",
    "        p2_card = hand[p1_card][0]\n",
    "    p1_score = 0\n",
    "    p2_score = 0\n",
    "    score = 0\n",
    "\n",
    "    if p1_card == p2_card:\n",
    "        score += outcome_score[p2_card]\n",
    "        score += scores[\"draw\"]\n",
    "        return score\n",
    "    if p1_card == \"rock\" and p2_card == \"paper\":\n",
    "        # p2 win\n",
    "        p2_score += scores[\"win\"]\n",
    "        p2_score += outcome_score[\"paper\"]\n",
    "        score = p2_score\n",
    "        return score\n",
    "    if p1_card == \"rock\" and p2_card == \"scissor\":\n",
    "        # p1 win\n",
    "        p2_score += scores[\"lost\"]\n",
    "        p2_score += outcome_score[\"scissor\"]\n",
    "        score = p2_score\n",
    "        return score\n",
    "    if p1_card == \"paper\" and p2_card == \"rock\":\n",
    "        # p1 win\n",
    "        p2_score += scores[\"lost\"]\n",
    "        p2_score += outcome_score[\"rock\"]\n",
    "        score = p2_score\n",
    "        return score\n",
    "    if p1_card == \"paper\" and p2_card == \"scissor\":\n",
    "        p2_score += scores[\"win\"]\n",
    "        p2_score += outcome_score[\"scissor\"]\n",
    "        score = p2_score\n",
    "        return score\n",
    "    if p1_card == \"scissor\" and p2_card == \"rock\":\n",
    "        p2_score += scores[\"win\"]\n",
    "        p2_score += outcome_score[\"rock\"]\n",
    "        score = p2_score\n",
    "        return score\n",
    "    if p1_card == \"scissor\" and p2_card == \"paper\":\n",
    "        p2_score += scores[\"lost\"]\n",
    "        p2_score += outcome_score[\"paper\"]\n",
    "        score = p2_score\n",
    "        return score\n",
    "    return score"
   ]
  },
  {
   "cell_type": "code",
   "execution_count": 69,
   "metadata": {},
   "outputs": [],
   "source": [
    "# get_score(\"C\",\"Z\")\n",
    "arr = []\n",
    "for line in lines:\n",
    "    p1,p2 = line.split()\n",
    "    arr.append(get_score(p1,p2))"
   ]
  },
  {
   "cell_type": "code",
   "execution_count": 70,
   "metadata": {},
   "outputs": [
    {
     "data": {
      "text/plain": [
       "13022"
      ]
     },
     "execution_count": 70,
     "metadata": {},
     "output_type": "execute_result"
    }
   ],
   "source": [
    "sum(arr)"
   ]
  },
  {
   "cell_type": "code",
   "execution_count": 25,
   "metadata": {},
   "outputs": [
    {
     "name": "stdout",
     "output_type": "stream",
     "text": [
      "rock rock\n"
     ]
    }
   ],
   "source": [
    "print(rps_dict[\"a\"], rps_dict[\"y\"])"
   ]
  }
 ],
 "metadata": {
  "kernelspec": {
   "display_name": "Python 3.9.13 64-bit",
   "language": "python",
   "name": "python3"
  },
  "language_info": {
   "codemirror_mode": {
    "name": "ipython",
    "version": 3
   },
   "file_extension": ".py",
   "mimetype": "text/x-python",
   "name": "python",
   "nbconvert_exporter": "python",
   "pygments_lexer": "ipython3",
   "version": "3.9.13"
  },
  "orig_nbformat": 4,
  "vscode": {
   "interpreter": {
    "hash": "2b6578007a09083de27995e72f12c07513e3e994bd9da2761194a78eedcc2cbd"
   }
  }
 },
 "nbformat": 4,
 "nbformat_minor": 2
}
