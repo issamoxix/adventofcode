{
 "cells": [
  {
   "cell_type": "code",
   "execution_count": 79,
   "metadata": {},
   "outputs": [],
   "source": [
    "abc = \"abcdefghijklmnopqrstuvwxyz\"\n",
    "file_text = open('day3.txt','r').read()\n",
    "lines = file_text.split('\\n')"
   ]
  },
  {
   "cell_type": "code",
   "execution_count": 80,
   "metadata": {},
   "outputs": [],
   "source": [
    "def get_priority(str):\n",
    "    string_score = abc.find(str)\n",
    "    if string_score == -1:\n",
    "        string_score = abc.find(str.lower())\n",
    "        string_score += 26\n",
    "    return string_score + 1\n",
    "\n",
    "arr = []\n",
    "curr = 0\n",
    "for key,line in enumerate(lines):\n",
    "    curr += 1\n",
    "    if curr == 3:\n",
    "        dup_item = list(set(lines[key]) & set(lines[key - 1]) & set(lines[key - 2]))[0]\n",
    "        arr.append(get_priority(dup_item))\n",
    "        curr = 0"
   ]
  },
  {
   "cell_type": "code",
   "execution_count": 81,
   "metadata": {},
   "outputs": [
    {
     "data": {
      "text/plain": [
       "2646"
      ]
     },
     "execution_count": 81,
     "metadata": {},
     "output_type": "execute_result"
    }
   ],
   "source": [
    "sum(arr)"
   ]
  },
  {
   "cell_type": "code",
   "execution_count": 75,
   "metadata": {},
   "outputs": [
    {
     "data": {
      "text/plain": [
       "'i'"
      ]
     },
     "execution_count": 75,
     "metadata": {},
     "output_type": "execute_result"
    }
   ],
   "source": [
    "name1 = \"issam\"\n",
    "name2 = \"isafam\"\n",
    "name3 = \"azimza\"\n",
    "list(set(name1) & set(name2) & set(name3) )[0]"
   ]
  }
 ],
 "metadata": {
  "kernelspec": {
   "display_name": "Python 3.9.13 64-bit",
   "language": "python",
   "name": "python3"
  },
  "language_info": {
   "codemirror_mode": {
    "name": "ipython",
    "version": 3
   },
   "file_extension": ".py",
   "mimetype": "text/x-python",
   "name": "python",
   "nbconvert_exporter": "python",
   "pygments_lexer": "ipython3",
   "version": "3.9.13"
  },
  "orig_nbformat": 4,
  "vscode": {
   "interpreter": {
    "hash": "2b6578007a09083de27995e72f12c07513e3e994bd9da2761194a78eedcc2cbd"
   }
  }
 },
 "nbformat": 4,
 "nbformat_minor": 2
}
