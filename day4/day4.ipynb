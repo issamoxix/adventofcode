{
 "cells": [
  {
   "cell_type": "code",
   "execution_count": 36,
   "metadata": {},
   "outputs": [],
   "source": [
    "file_text = open('day4_test.txt','r').read()\n",
    "pairs = file_text.split('\\n')"
   ]
  },
  {
   "cell_type": "code",
   "execution_count": 48,
   "metadata": {},
   "outputs": [
    {
     "name": "stdout",
     "output_type": "stream",
     "text": [
      "471\n"
     ]
    }
   ],
   "source": [
    "# Part 1\n",
    "file_text = open('day4.txt','r').read()\n",
    "pairs = file_text.split('\\n')\n",
    "pair_dup = 0\n",
    "for pair in pairs:\n",
    "    p1, p2 = pair.split(\",\")\n",
    "    p1_1, p1_2 = p1.split(\"-\")\n",
    "    p2_1, p2_2 = p2.split(\"-\")\n",
    "    p1_1, p1_2, p2_1, p2_2 = int(p1_1), int(p1_2), int(p2_1), int(p2_2)\n",
    "    pair_1 = [i for i in range(int(p1_1), int(p1_2) + 1)]\n",
    "    pair_2 = [i for i in range(int(p2_1), int(p2_2) + 1)]\n",
    "    if len(pair_1) == len(pair_2):\n",
    "        if p1_1 != p2_1:\n",
    "            continue\n",
    "        else:\n",
    "            pair_dup += 1\n",
    "    else:\n",
    "        coli = list(set(pair_1) & set(pair_2))\n",
    "        coli.sort()\n",
    "        if coli == pair_1 or coli == pair_2:\n",
    "            pair_dup += 1 \n",
    "print(pair_dup)"
   ]
  },
  {
   "cell_type": "code",
   "execution_count": 51,
   "metadata": {},
   "outputs": [
    {
     "name": "stdout",
     "output_type": "stream",
     "text": [
      "888\n"
     ]
    }
   ],
   "source": [
    "# Part 2\n",
    "file_text = open('day4.txt','r').read()\n",
    "pairs = file_text.split('\\n')\n",
    "pair_dup = 0\n",
    "for pair in pairs:\n",
    "    p1, p2 = pair.split(\",\")\n",
    "    p1_1, p1_2 = p1.split(\"-\")\n",
    "    p2_1, p2_2 = p2.split(\"-\")\n",
    "    p1_1, p1_2, p2_1, p2_2 = int(p1_1), int(p1_2), int(p2_1), int(p2_2)\n",
    "    pair_1 = [i for i in range(int(p1_1), int(p1_2) + 1)]\n",
    "    pair_2 = [i for i in range(int(p2_1), int(p2_2) + 1)]\n",
    "\n",
    "    coli = list(set(pair_1) & set(pair_2))\n",
    "    coli.sort()\n",
    "    if coli:\n",
    "        pair_dup += 1 \n",
    "print(pair_dup)"
   ]
  },
  {
   "cell_type": "code",
   "execution_count": 40,
   "metadata": {},
   "outputs": [
    {
     "data": {
      "text/plain": [
       "[80, 79]"
      ]
     },
     "execution_count": 40,
     "metadata": {},
     "output_type": "execute_result"
    }
   ],
   "source": [
    "list(set([i for i in range(45,80+1)]) & set([i for i in range(79,80+1)]))"
   ]
  },
  {
   "cell_type": "code",
   "execution_count": 31,
   "metadata": {},
   "outputs": [
    {
     "data": {
      "text/plain": [
       "False"
      ]
     },
     "execution_count": 31,
     "metadata": {},
     "output_type": "execute_result"
    }
   ],
   "source": [
    "[5,6] in [5,6,7]"
   ]
  }
 ],
 "metadata": {
  "kernelspec": {
   "display_name": "Python 3.9.13 64-bit",
   "language": "python",
   "name": "python3"
  },
  "language_info": {
   "codemirror_mode": {
    "name": "ipython",
    "version": 3
   },
   "file_extension": ".py",
   "mimetype": "text/x-python",
   "name": "python",
   "nbconvert_exporter": "python",
   "pygments_lexer": "ipython3",
   "version": "3.9.13"
  },
  "orig_nbformat": 4,
  "vscode": {
   "interpreter": {
    "hash": "2b6578007a09083de27995e72f12c07513e3e994bd9da2761194a78eedcc2cbd"
   }
  }
 },
 "nbformat": 4,
 "nbformat_minor": 2
}
