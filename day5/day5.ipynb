{
 "cells": [
  {
   "cell_type": "code",
   "execution_count": 120,
   "metadata": {},
   "outputs": [
    {
     "data": {
      "text/plain": [
       "{'1': ['[X]', '[F]', '[H]', '[M]', '[T]', '[V]', '[L]', '[D]'],\n",
       " '2': ['[P]', '[N]', '[T]', '[C]', '[J]', '[G]', '[Q]', '[H]'],\n",
       " '3': ['[X]', '[X]', '[H]', '[P]', '[M]', '[D]', '[S]', '[R]'],\n",
       " '4': ['[X]', '[X]', '[X]', '[X]', '[F]', '[V]', '[B]', '[L]'],\n",
       " '5': ['[X]', '[X]', '[X]', '[Q]', '[L]', '[G]', '[H]', '[N]'],\n",
       " '6': ['[X]', '[P]', '[M]', '[R]', '[G]', '[D]', '[B]', '[W]'],\n",
       " '7': ['[Q]', '[L]', '[H]', '[C]', '[R]', '[N]', '[M]', '[G]'],\n",
       " '8': ['[X]', '[X]', '[X]', '[X]', '[X]', '[W]', '[L]', '[C]'],\n",
       " '9': ['[T]', '[M]', '[Z]', '[J]', '[Q]', '[L]', '[D]', '[R]']}"
      ]
     },
     "execution_count": 120,
     "metadata": {},
     "output_type": "execute_result"
    }
   ],
   "source": [
    "file_text = open('day5.txt','r').read()\n",
    "blue_print_instru = file_text.split('\\n')\n",
    "\n",
    "blue_print = []\n",
    "instructions = []\n",
    "for line in blue_print_instru:\n",
    "    if not line:\n",
    "        continue\n",
    "    if 'move' in line:\n",
    "        instructions.append(line)\n",
    "        continue\n",
    "    blue_print.append(line)\n",
    "\n",
    "    \n",
    "blue_print_viz = {}\n",
    "crates = blue_print[-1].split()\n",
    "blue_print_viz = {crate: [] for crate in crates}\n",
    "\n",
    "for p in blue_print[:-1]:\n",
    "    if len(p.split(\"   \")) != len(crates):\n",
    "        suc = []\n",
    "        for i in p.split(\"   \"):\n",
    "            if not i:\n",
    "                continue\n",
    "            for r in i.split():\n",
    "                if not r:\n",
    "                    continue\n",
    "                suc.append(r)\n",
    "        for k, u in enumerate(suc):\n",
    "            if not u:\n",
    "                continue\n",
    "            blue_print_viz[str(k + 1)].append(u)\n",
    "    else:\n",
    "        for k, i in enumerate(p.split(\"   \")):\n",
    "            if not i:\n",
    "                continue\n",
    "            blue_print_viz[str(k + 1)].append(i)\n",
    "\n",
    "\n",
    "blue_print_viz\n",
    "\n"
   ]
  },
  {
   "cell_type": "code",
   "execution_count": 138,
   "metadata": {},
   "outputs": [
    {
     "data": {
      "text/plain": [
       "{'1': ['[F]', '[H]', '[M]', '[T]', '[V]', '[L]', '[D]'],\n",
       " '2': ['[P]', '[N]', '[T]', '[C]', '[J]', '[G]', '[Q]', '[H]'],\n",
       " '3': ['[H]', '[P]', '[M]', '[D]', '[S]', '[R]'],\n",
       " '4': ['[F]', '[V]', '[B]', '[L]'],\n",
       " '5': ['[Q]', '[L]', '[G]', '[H]', '[N]'],\n",
       " '6': ['[P]', '[M]', '[R]', '[G]', '[D]', '[B]', '[W]'],\n",
       " '7': ['[Q]', '[L]', '[H]', '[C]', '[R]', '[N]', '[M]', '[G]'],\n",
       " '8': ['[W]', '[L]', '[C]'],\n",
       " '9': ['[T]', '[M]', '[Z]', '[J]', '[Q]', '[L]', '[D]', '[R]']}"
      ]
     },
     "execution_count": 138,
     "metadata": {},
     "output_type": "execute_result"
    }
   ],
   "source": [
    "for i,j in blue_print_viz.items():\n",
    "    try:\n",
    "        j.remove(\"[X]\")\n",
    "    except:\n",
    "        pass\n",
    "blue_print_viz\n"
   ]
  },
  {
   "cell_type": "code",
   "execution_count": 71,
   "metadata": {},
   "outputs": [
    {
     "data": {
      "text/plain": [
       "['', '', '[P]', '', '', '', '', '', '', '', ' [Q]', '', ' [T]']"
      ]
     },
     "execution_count": 71,
     "metadata": {},
     "output_type": "execute_result"
    }
   ],
   "source": [
    "blue_print[0].split(\"  \")"
   ]
  },
  {
   "cell_type": "code",
   "execution_count": 139,
   "metadata": {},
   "outputs": [],
   "source": [
    "# clean from empty items\n",
    "for k, i in blue_print_viz.items():\n",
    "    try:\n",
    "        i.remove(\" \")\n",
    "    except:\n",
    "        pass\n",
    "\n",
    "def insert_to_crate(crates_list,to_crate,from_crate):\n",
    "    crates_list.reverse()\n",
    "    for crate in crates_list:\n",
    "        to_crate.insert(0,crate)\n",
    "        from_crate.remove(crate)"
   ]
  },
  {
   "cell_type": "code",
   "execution_count": 140,
   "metadata": {},
   "outputs": [
    {
     "name": "stdout",
     "output_type": "stream",
     "text": [
      "RNLFDJMCT\n"
     ]
    }
   ],
   "source": [
    "for instr in instructions:\n",
    "    insru = instr.split()\n",
    "    quantity = insru[1]\n",
    "    _from = insru[3]\n",
    "    _to = insru[5]\n",
    "    insert_to_crate(blue_print_viz[_from][:int(quantity):],blue_print_viz[_to],blue_print_viz[_from])\n",
    "res = []\n",
    "for k,v in blue_print_viz.items():\n",
    "    res.append(v[0])\n",
    "print(\"\".join(res).replace(\"[\",\"\").replace(\"]\",\"\").strip())\n"
   ]
  },
  {
   "cell_type": "code",
   "execution_count": 114,
   "metadata": {},
   "outputs": [
    {
     "data": {
      "text/plain": [
       "{'1': ['[M]'], '2': ['[C]'], '3': [' [D]', '[N]', '[Z]', '[P]']}"
      ]
     },
     "execution_count": 114,
     "metadata": {},
     "output_type": "execute_result"
    }
   ],
   "source": [
    "# insert_to_crate(blue_print_viz[\"2\"][:1:],blue_print_viz[\"1\"],blue_print_viz[\"2\"])\n",
    "# insert_to_crate(blue_print_viz[\"1\"][:3:],blue_print_viz[\"3\"],blue_print_viz[\"1\"])\n",
    "# insert_to_crate(blue_print_viz[\"2\"][:2:],blue_print_viz[\"1\"],blue_print_viz[\"2\"])\n",
    "# insert_to_crate(blue_print_viz[\"1\"][:1:],blue_print_viz[\"2\"],blue_print_viz[\"1\"])\n",
    "blue_print_viz\n"
   ]
  },
  {
   "cell_type": "code",
   "execution_count": 108,
   "metadata": {},
   "outputs": [
    {
     "data": {
      "text/plain": [
       "{'1': [], '2': ['[C]', '[M]'], '3': ['[Z]', '[N]', ' [D]', '[P]']}"
      ]
     },
     "execution_count": 108,
     "metadata": {},
     "output_type": "execute_result"
    }
   ],
   "source": []
  },
  {
   "cell_type": "code",
   "execution_count": 154,
   "metadata": {},
   "outputs": [
    {
     "data": {
      "text/plain": [
       "{'1': ['[D]', '[N]', '[Z]'], '2': ['[C]', '[M]'], '3': ['[P]']}"
      ]
     },
     "execution_count": 154,
     "metadata": {},
     "output_type": "execute_result"
    }
   ],
   "source": [
    "blue_print_viz"
   ]
  },
  {
   "cell_type": "code",
   "execution_count": 168,
   "metadata": {},
   "outputs": [
    {
     "name": "stdout",
     "output_type": "stream",
     "text": [
      "[C][M][Z]\n"
     ]
    }
   ],
   "source": []
  },
  {
   "cell_type": "code",
   "execution_count": 109,
   "metadata": {},
   "outputs": [],
   "source": [
    "blue_print_viz[\"1\"].insert(0,blue_print_viz[\"2\"][:1:])"
   ]
  },
  {
   "cell_type": "code",
   "execution_count": 115,
   "metadata": {},
   "outputs": [
    {
     "data": {
      "text/plain": [
       "[['[D]'], '[N]', '[Z]']"
      ]
     },
     "execution_count": 115,
     "metadata": {},
     "output_type": "execute_result"
    }
   ],
   "source": [
    "blue_print_viz[\"1\"]"
   ]
  }
 ],
 "metadata": {
  "kernelspec": {
   "display_name": "Python 3",
   "language": "python",
   "name": "python3"
  },
  "language_info": {
   "codemirror_mode": {
    "name": "ipython",
    "version": 3
   },
   "file_extension": ".py",
   "mimetype": "text/x-python",
   "name": "python",
   "nbconvert_exporter": "python",
   "pygments_lexer": "ipython3",
   "version": "3.9.13 (tags/v3.9.13:6de2ca5, May 17 2022, 16:36:42) [MSC v.1929 64 bit (AMD64)]"
  },
  "orig_nbformat": 4,
  "vscode": {
   "interpreter": {
    "hash": "2b6578007a09083de27995e72f12c07513e3e994bd9da2761194a78eedcc2cbd"
   }
  }
 },
 "nbformat": 4,
 "nbformat_minor": 2
}
