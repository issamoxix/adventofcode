{
 "cells": [
  {
   "cell_type": "code",
   "execution_count": 1,
   "metadata": {},
   "outputs": [],
   "source": [
    "file_text = open('day6.txt','r').read()\n",
    "markers = file_text.split('\\n') "
   ]
  },
  {
   "cell_type": "code",
   "execution_count": 2,
   "metadata": {},
   "outputs": [],
   "source": [
    "string = \"mjqjpqmgbljsphdztnvjfqwrcgsmlb\"\n",
    "string2 = \"bvwbjplbgvbhsrlpgdmjqwftvncz\"\n"
   ]
  },
  {
   "cell_type": "code",
   "execution_count": 3,
   "metadata": {},
   "outputs": [],
   "source": [
    "# get the 4 first char with no duplicates\n",
    "# Part 1\n",
    "def get_marker(datastream: str, char_start_pos: int = 0, char_init_pos: int = 4):\n",
    "    char_length = 4\n",
    "    for char in datastream[char_start_pos:char_init_pos]:\n",
    "        if datastream[char_start_pos:char_init_pos].count(char) > 1:\n",
    "            return get_marker(\n",
    "                datastream,char_start_pos + 1, char_init_pos+1\n",
    "            )\n",
    "\n",
    "    return datastream[char_start_pos:char_init_pos],char_init_pos"
   ]
  },
  {
   "cell_type": "code",
   "execution_count": 4,
   "metadata": {},
   "outputs": [
    {
     "name": "stdout",
     "output_type": "stream",
     "text": [
      "('fmwg', 1538)\n"
     ]
    }
   ],
   "source": [
    "for marker in markers:\n",
    "    print(get_marker(marker))"
   ]
  },
  {
   "cell_type": "code",
   "execution_count": 10,
   "metadata": {},
   "outputs": [],
   "source": [
    "# Part 2\n",
    "string = \"zcfzfwzzqfrljwzlrfnpqdbhtmscgvjw\""
   ]
  },
  {
   "cell_type": "code",
   "execution_count": 12,
   "metadata": {},
   "outputs": [
    {
     "ename": "",
     "evalue": "",
     "output_type": "error",
     "traceback": [
      "\u001b[1;31mCanceled future for execute_request message before replies were done"
     ]
    },
    {
     "ename": "",
     "evalue": "",
     "output_type": "error",
     "traceback": [
      "\u001b[1;31mThe Kernel crashed while executing code in the the current cell or a previous cell. Please review the code in the cell(s) to identify a possible cause of the failure. Click <a href='https://aka.ms/vscodeJupyterKernelCrash'>here</a> for more info. View Jupyter <a href='command:jupyter.viewOutput'>log</a> for further details."
     ]
    }
   ],
   "source": [
    "get_marker(marker,0,14)"
   ]
  }
 ],
 "metadata": {
  "kernelspec": {
   "display_name": "Python 3",
   "language": "python",
   "name": "python3"
  },
  "language_info": {
   "codemirror_mode": {
    "name": "ipython",
    "version": 3
   },
   "file_extension": ".py",
   "mimetype": "text/x-python",
   "name": "python",
   "nbconvert_exporter": "python",
   "pygments_lexer": "ipython3",
   "version": "3.9.13"
  },
  "orig_nbformat": 4,
  "vscode": {
   "interpreter": {
    "hash": "2b6578007a09083de27995e72f12c07513e3e994bd9da2761194a78eedcc2cbd"
   }
  }
 },
 "nbformat": 4,
 "nbformat_minor": 2
}
